{
 "cells": [
  {
   "cell_type": "markdown",
   "metadata": {},
   "source": [
    "# Exercise 5"
   ]
  },
  {
   "cell_type": "markdown",
   "metadata": {},
   "source": [
    "### Web service"
   ]
  },
  {
   "cell_type": "code",
   "execution_count": 1,
   "metadata": {},
   "outputs": [],
   "source": [
    "import json"
   ]
  },
  {
   "cell_type": "code",
   "execution_count": 2,
   "metadata": {},
   "outputs": [
    {
     "data": {
      "text/plain": [
       "'[\"a\", \"b\", \"c\", \"d\", \"e\"]'"
      ]
     },
     "execution_count": 2,
     "metadata": {},
     "output_type": "execute_result"
    }
   ],
   "source": [
    "json.dumps(list(\"abcde\"))"
   ]
  },
  {
   "cell_type": "code",
   "execution_count": 4,
   "metadata": {},
   "outputs": [
    {
     "data": {
      "text/plain": [
       "'{\"a\": 1, \"b\": 2, \"c\": 3}'"
      ]
     },
     "execution_count": 4,
     "metadata": {},
     "output_type": "execute_result"
    }
   ],
   "source": [
    "json.dumps({'a':1, 'b':2, 'c':3})"
   ]
  },
  {
   "cell_type": "code",
   "execution_count": 5,
   "metadata": {},
   "outputs": [
    {
     "data": {
      "text/plain": [
       "{'name': ['Hola', 'Hello'], 'age': [31, 32], 'city': ['Madrid', 'NY']}"
      ]
     },
     "execution_count": 5,
     "metadata": {},
     "output_type": "execute_result"
    }
   ],
   "source": [
    "myDict = {'name':['Hola', 'Hello'], 'age':[31,32], 'city':['Madrid', 'NY']}\n",
    "myDict"
   ]
  },
  {
   "cell_type": "code",
   "execution_count": 6,
   "metadata": {},
   "outputs": [],
   "source": [
    "import pandas as pd"
   ]
  },
  {
   "cell_type": "code",
   "execution_count": 7,
   "metadata": {},
   "outputs": [
    {
     "data": {
      "text/html": [
       "<div>\n",
       "<style scoped>\n",
       "    .dataframe tbody tr th:only-of-type {\n",
       "        vertical-align: middle;\n",
       "    }\n",
       "\n",
       "    .dataframe tbody tr th {\n",
       "        vertical-align: top;\n",
       "    }\n",
       "\n",
       "    .dataframe thead th {\n",
       "        text-align: right;\n",
       "    }\n",
       "</style>\n",
       "<table border=\"1\" class=\"dataframe\">\n",
       "  <thead>\n",
       "    <tr style=\"text-align: right;\">\n",
       "      <th></th>\n",
       "      <th>name</th>\n",
       "      <th>age</th>\n",
       "      <th>city</th>\n",
       "    </tr>\n",
       "  </thead>\n",
       "  <tbody>\n",
       "    <tr>\n",
       "      <td>0</td>\n",
       "      <td>Hola</td>\n",
       "      <td>31</td>\n",
       "      <td>Madrid</td>\n",
       "    </tr>\n",
       "    <tr>\n",
       "      <td>1</td>\n",
       "      <td>Hello</td>\n",
       "      <td>32</td>\n",
       "      <td>NY</td>\n",
       "    </tr>\n",
       "  </tbody>\n",
       "</table>\n",
       "</div>"
      ],
      "text/plain": [
       "    name  age    city\n",
       "0   Hola   31  Madrid\n",
       "1  Hello   32      NY"
      ]
     },
     "execution_count": 7,
     "metadata": {},
     "output_type": "execute_result"
    }
   ],
   "source": [
    "df_dict = pd.DataFrame.from_dict(myDict)\n",
    "df_dict"
   ]
  },
  {
   "cell_type": "code",
   "execution_count": 8,
   "metadata": {},
   "outputs": [
    {
     "data": {
      "text/plain": [
       "'{\"name\":{\"0\":\"Hola\",\"1\":\"Hello\"},\"age\":{\"0\":31,\"1\":32},\"city\":{\"0\":\"Madrid\",\"1\":\"NY\"}}'"
      ]
     },
     "execution_count": 8,
     "metadata": {},
     "output_type": "execute_result"
    }
   ],
   "source": [
    "df_dict.to_json()"
   ]
  },
  {
   "cell_type": "code",
   "execution_count": 9,
   "metadata": {},
   "outputs": [
    {
     "data": {
      "text/html": [
       "<div>\n",
       "<style scoped>\n",
       "    .dataframe tbody tr th:only-of-type {\n",
       "        vertical-align: middle;\n",
       "    }\n",
       "\n",
       "    .dataframe tbody tr th {\n",
       "        vertical-align: top;\n",
       "    }\n",
       "\n",
       "    .dataframe thead th {\n",
       "        text-align: right;\n",
       "    }\n",
       "</style>\n",
       "<table border=\"1\" class=\"dataframe\">\n",
       "  <thead>\n",
       "    <tr style=\"text-align: right;\">\n",
       "      <th></th>\n",
       "      <th>0</th>\n",
       "      <th>1</th>\n",
       "    </tr>\n",
       "  </thead>\n",
       "  <tbody>\n",
       "    <tr>\n",
       "      <td>name</td>\n",
       "      <td>Hola</td>\n",
       "      <td>Hello</td>\n",
       "    </tr>\n",
       "    <tr>\n",
       "      <td>age</td>\n",
       "      <td>31</td>\n",
       "      <td>32</td>\n",
       "    </tr>\n",
       "    <tr>\n",
       "      <td>city</td>\n",
       "      <td>Madrid</td>\n",
       "      <td>NY</td>\n",
       "    </tr>\n",
       "  </tbody>\n",
       "</table>\n",
       "</div>"
      ],
      "text/plain": [
       "           0      1\n",
       "name    Hola  Hello\n",
       "age       31     32\n",
       "city  Madrid     NY"
      ]
     },
     "execution_count": 9,
     "metadata": {},
     "output_type": "execute_result"
    }
   ],
   "source": [
    "df_dict = pd.DataFrame.from_dict(myDict, orient='index')\n",
    "df_dict"
   ]
  },
  {
   "cell_type": "code",
   "execution_count": 10,
   "metadata": {},
   "outputs": [
    {
     "data": {
      "text/plain": [
       "'{\"0\":{\"name\":\"Hola\",\"age\":31,\"city\":\"Madrid\"},\"1\":{\"name\":\"Hello\",\"age\":32,\"city\":\"NY\"}}'"
      ]
     },
     "execution_count": 10,
     "metadata": {},
     "output_type": "execute_result"
    }
   ],
   "source": [
    "df_dict.to_json()"
   ]
  },
  {
   "cell_type": "code",
   "execution_count": 11,
   "metadata": {},
   "outputs": [
    {
     "name": "stdout",
     "output_type": "stream",
     "text": [
      "DS_Challenge.ipynb  Untitled.ipynb    \u001b[0m\u001b[01;31mbookings.sample.csv.bz2\u001b[0m  top_airports.csv\r\n",
      "README.md           \u001b[01;31mbookings.csv.bz2\u001b[0m  \u001b[01;31msearches.csv.bz2\u001b[0m\r\n"
     ]
    }
   ],
   "source": [
    "ls"
   ]
  },
  {
   "cell_type": "code",
   "execution_count": 14,
   "metadata": {},
   "outputs": [
    {
     "data": {
      "text/html": [
       "<div>\n",
       "<style scoped>\n",
       "    .dataframe tbody tr th:only-of-type {\n",
       "        vertical-align: middle;\n",
       "    }\n",
       "\n",
       "    .dataframe tbody tr th {\n",
       "        vertical-align: top;\n",
       "    }\n",
       "\n",
       "    .dataframe thead th {\n",
       "        text-align: right;\n",
       "    }\n",
       "</style>\n",
       "<table border=\"1\" class=\"dataframe\">\n",
       "  <thead>\n",
       "    <tr style=\"text-align: right;\">\n",
       "      <th></th>\n",
       "      <th>arr_port</th>\n",
       "      <th>pax</th>\n",
       "      <th>Airport_name</th>\n",
       "    </tr>\n",
       "  </thead>\n",
       "  <tbody>\n",
       "    <tr>\n",
       "      <td>0</td>\n",
       "      <td>LHR</td>\n",
       "      <td>88809.0</td>\n",
       "      <td>London Heathrow Airport</td>\n",
       "    </tr>\n",
       "    <tr>\n",
       "      <td>1</td>\n",
       "      <td>MCO</td>\n",
       "      <td>70930.0</td>\n",
       "      <td>Orlando International Airport</td>\n",
       "    </tr>\n",
       "    <tr>\n",
       "      <td>2</td>\n",
       "      <td>LAX</td>\n",
       "      <td>70530.0</td>\n",
       "      <td>Los Angeles International Airport</td>\n",
       "    </tr>\n",
       "    <tr>\n",
       "      <td>3</td>\n",
       "      <td>LAS</td>\n",
       "      <td>69630.0</td>\n",
       "      <td>McCarran International Airport</td>\n",
       "    </tr>\n",
       "    <tr>\n",
       "      <td>4</td>\n",
       "      <td>JFK</td>\n",
       "      <td>66270.0</td>\n",
       "      <td>John F. Kennedy International Airport</td>\n",
       "    </tr>\n",
       "    <tr>\n",
       "      <td>...</td>\n",
       "      <td>...</td>\n",
       "      <td>...</td>\n",
       "      <td>...</td>\n",
       "    </tr>\n",
       "    <tr>\n",
       "      <td>2268</td>\n",
       "      <td>MYJ</td>\n",
       "      <td>-80.0</td>\n",
       "      <td>Matsuyama Airport</td>\n",
       "    </tr>\n",
       "    <tr>\n",
       "      <td>2269</td>\n",
       "      <td>UPG</td>\n",
       "      <td>-90.0</td>\n",
       "      <td>Sultan Hasanuddin International Airport</td>\n",
       "    </tr>\n",
       "    <tr>\n",
       "      <td>2270</td>\n",
       "      <td>XWG</td>\n",
       "      <td>-90.0</td>\n",
       "      <td>Gare de Strasbourg</td>\n",
       "    </tr>\n",
       "    <tr>\n",
       "      <td>2271</td>\n",
       "      <td>MZV</td>\n",
       "      <td>-350.0</td>\n",
       "      <td>Mulu Airport</td>\n",
       "    </tr>\n",
       "    <tr>\n",
       "      <td>2272</td>\n",
       "      <td>AYQ</td>\n",
       "      <td>-1270.0</td>\n",
       "      <td>Ayers Rock Airport</td>\n",
       "    </tr>\n",
       "  </tbody>\n",
       "</table>\n",
       "<p>2273 rows × 3 columns</p>\n",
       "</div>"
      ],
      "text/plain": [
       "     arr_port      pax                             Airport_name\n",
       "0         LHR  88809.0                  London Heathrow Airport\n",
       "1         MCO  70930.0            Orlando International Airport\n",
       "2         LAX  70530.0        Los Angeles International Airport\n",
       "3         LAS  69630.0           McCarran International Airport\n",
       "4         JFK  66270.0    John F. Kennedy International Airport\n",
       "...       ...      ...                                      ...\n",
       "2268      MYJ    -80.0                        Matsuyama Airport\n",
       "2269      UPG    -90.0  Sultan Hasanuddin International Airport\n",
       "2270      XWG    -90.0                       Gare de Strasbourg\n",
       "2271      MZV   -350.0                             Mulu Airport\n",
       "2272      AYQ  -1270.0                       Ayers Rock Airport\n",
       "\n",
       "[2273 rows x 3 columns]"
      ]
     },
     "execution_count": 14,
     "metadata": {},
     "output_type": "execute_result"
    }
   ],
   "source": [
    "df = pd.read_csv('top_airports.csv', sep='^')\n",
    "df"
   ]
  },
  {
   "cell_type": "code",
   "execution_count": 15,
   "metadata": {},
   "outputs": [
    {
     "data": {
      "text/plain": [
       "'{\"arr_port\":{\"0\":\"LHR\",\"1\":\"MCO\",\"2\":\"LAX\",\"3\":\"LAS\",\"4\":\"JFK\",\"5\":\"CDG\",\"6\":\"BKK\",\"7\":\"MIA\",\"8\":\"SFO\",\"9\":\"DXB\",\"10\":\"ORD\",\"11\":\"FCO\",\"12\":\"IST\",\"13\":\"DFW\",\"14\":\"CUN\",\"15\":\"MAD\",\"16\":\"BCN\",\"17\":\"LGA\",\"18\":\"ATL\",\"19\":\"EWR\",\"20\":\"BOS\",\"21\":\"DEL\",\"22\":\"SYD\",\"23\":\"BOM\",\"24\":\"MUC\",\"25\":\"DEN\",\"26\":\"MNL\",\"27\":\"HKG\",\"28\":\"FRA\",\"29\":\"ORY\",\"30\":\"SEA\",\"31\":\"FLL\",\"32\":\"TXL\",\"33\":\"AMS\",\"34\":\"PHX\",\"35\":\"DCA\",\"36\":\"MEX\",\"37\":\"IAH\",\"38\":\"JED\",\"39\":\"PVG\",\"40\":\"YYZ\",\"41\":\"VIE\",\"42\":\"LIS\",\"43\":\"SIN\",\"44\":\"CAI\",\"45\":\"HNL\",\"46\":\"ATH\",\"47\":\"MEL\",\"48\":\"SAN\",\"49\":\"JNB\"},\"pax\":{\"0\":88809.0,\"1\":70930.0,\"2\":70530.0,\"3\":69630.0,\"4\":66270.0,\"5\":64490.0,\"6\":59460.0,\"7\":58150.0,\"8\":58000.0,\"9\":55590.0,\"10\":53200.0,\"11\":45120.0,\"12\":43850.0,\"13\":42420.0,\"14\":42000.0,\"15\":41410.0,\"16\":41200.0,\"17\":40712.0,\"18\":39780.0,\"19\":36890.0,\"20\":35840.0,\"21\":35680.0,\"22\":33690.0,\"23\":33440.0,\"24\":33180.0,\"25\":32630.0,\"26\":32400.0,\"27\":32020.0,\"28\":31970.0,\"29\":31800.0,\"30\":31530.0,\"31\":31170.0,\"32\":30590.0,\"33\":30580.0,\"34\":29730.0,\"35\":29000.0,\"36\":28120.0,\"37\":28090.0,\"38\":27090.0,\"39\":26630.0,\"40\":26070.0,\"41\":25750.0,\"42\":25050.0,\"43\":24874.0,\"44\":24640.0,\"45\":24140.0,\"46\":24100.0,\"47\":23830.0,\"48\":23720.0,\"49\":23710.0},\"Airport_name\":{\"0\":\"London Heathrow Airport\",\"1\":\"Orlando International Airport\",\"2\":\"Los Angeles International Airport\",\"3\":\"McCarran International Airport\",\"4\":\"John F. Kennedy International Airport\",\"5\":\"Paris Charles de Gaulle Airport\",\"6\":\"Suvarnabhumi Airport\",\"7\":\"Miami International Airport\",\"8\":\"San Francisco International Airport\",\"9\":\"Dubai International Airport\",\"10\":\"Chicago O\\'Hare International Airport\",\"11\":\"Leonardo da Vinci\\\\u2013Fiumicino Airport\",\"12\":\"Istanbul Airport\",\"13\":\"Dallas\\\\/Fort Worth International Airport\",\"14\":\"Canc\\\\u00fan International Airport\",\"15\":\"Adolfo Su\\\\u00e1rez Madrid\\\\u2013Barajas Airport\",\"16\":\"Barcelona\\\\u2013El Prat Airport\",\"17\":\"La Guardia Airport\",\"18\":\"Hartsfield-Jackson Atlanta International Airport\",\"19\":\"Newark Liberty International Airport\",\"20\":\"Logan International Airport\",\"21\":\"Indira Gandhi International Airport\",\"22\":\"Sydney International Airport\",\"23\":\"Chhatrapati Shivaji Maharaj International Airport\",\"24\":\"Munich International Airport\",\"25\":\"Denver International Airport\",\"26\":\"Ninoy Aquino Manila International Airport\",\"27\":\"Hong Kong International Airport\",\"28\":\"Frankfurt Airport\",\"29\":\"Paris Orly Airport\",\"30\":\"Seattle-Tacoma International Airport\",\"31\":\"Fort Lauderdale\\\\/Hollywood International Airport\",\"32\":\"Berlin Tegel Airport\",\"33\":\"Amsterdam Airport Schiphol\",\"34\":\"Phoenix Sky Harbor International Airport\",\"35\":\"Ronald Reagan Washington National Airport\",\"36\":\"Benito Ju\\\\u00e1rez International Airport\",\"37\":\"George Bush Intercontinental Airport\",\"38\":\"Jeddah King Abdul Aziz International Airport\",\"39\":\"Shanghai Pudong International Airport\",\"40\":\"Toronto Pearson International Airport\",\"41\":\"Vienna International Airport\",\"42\":\"Lisbon Humberto Delgado Airport\",\"43\":\"Singapore Changi Airport\",\"44\":\"Cairo International Airport\",\"45\":\"Daniel K. Inouye International Airport\",\"46\":\"Athens Eleftherios Venizelos International Airport\",\"47\":\"Melbourne Airport\",\"48\":\"San Diego International Airport\",\"49\":\"O.R. Tambo International Airport\"}}'"
      ]
     },
     "execution_count": 15,
     "metadata": {},
     "output_type": "execute_result"
    }
   ],
   "source": [
    "df.head(50).to_json()"
   ]
  }
 ],
 "metadata": {
  "kernelspec": {
   "display_name": "Python 3",
   "language": "python",
   "name": "python3"
  },
  "language_info": {
   "codemirror_mode": {
    "name": "ipython",
    "version": 3
   },
   "file_extension": ".py",
   "mimetype": "text/x-python",
   "name": "python",
   "nbconvert_exporter": "python",
   "pygments_lexer": "ipython3",
   "version": "3.7.4"
  }
 },
 "nbformat": 4,
 "nbformat_minor": 2
}
